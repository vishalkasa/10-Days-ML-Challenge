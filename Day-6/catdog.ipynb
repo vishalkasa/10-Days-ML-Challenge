{
 "cells": [
  {
   "cell_type": "code",
   "execution_count": 2,
   "metadata": {},
   "outputs": [
    {
     "data": {
      "text/plain": [
       "['/mnt/batch/tasks/shared/LS_root/mounts/clusters/daysofml/code/Users/RAGHAV.BANG/dataset.zip']"
      ]
     },
     "execution_count": 2,
     "metadata": {},
     "output_type": "execute_result"
    }
   ],
   "source": [
    "# azureml-core of version 1.0.72 or higher is required\n",
    "from azureml.core import Workspace, Dataset\n",
    "\n",
    "subscription_id = 'e3d40f50-727b-419f-ae16-af0880e201e1'\n",
    "resource_group = 'One'\n",
    "workspace_name = '10daysofml'\n",
    "\n",
    "workspace = Workspace(subscription_id, resource_group, workspace_name)\n",
    "\n",
    "dataset = Dataset.get_by_name(workspace, name='CatVsDog')\n",
    "dataset.download(target_path='.', overwrite=True)"
   ]
  },
  {
   "cell_type": "code",
   "execution_count": 3,
   "metadata": {
    "collapsed": true,
    "jupyter": {
     "outputs_hidden": false,
     "source_hidden": false
    },
    "nteract": {
     "transient": {
      "deleting": false
     }
    }
   },
   "outputs": [],
   "source": [
    "import os\n",
    "import zipfile\n",
    "local_zip = 'dataset.zip'\n",
    "zip_ref = zipfile.ZipFile(local_zip, 'r')\n",
    "zip_ref.extractall('')\n",
    "zip_ref.close()"
   ]
  },
  {
   "cell_type": "code",
   "execution_count": 5,
   "metadata": {
    "jupyter": {
     "outputs_hidden": false,
     "source_hidden": false
    },
    "nteract": {
     "transient": {
      "deleting": false
     }
    }
   },
   "outputs": [],
   "source": [
    "train_cat_dir = r\"dataset\\training_set\\cats\"\n",
    "train_dog_dir = r\"dataset\\training_set\\dogs\"\n",
    "validation_cat_dir = r\"dataset\\test_set\\cats\"\n",
    "validation_dog_dir = r\"dataset\\test_set\\dogs\""
   ]
  },
  {
   "cell_type": "code",
   "execution_count": 6,
   "metadata": {},
   "outputs": [],
   "source": [
    "import os\n",
    "from tensorflow.keras import layers\n",
    "from tensorflow.keras import Model\n",
    "from tensorflow.keras.preprocessing.image import ImageDataGenerator\n",
    "import tensorflow as tf"
   ]
  },
  {
   "cell_type": "code",
   "execution_count": 16,
   "metadata": {},
   "outputs": [
    {
     "name": "stdout",
     "output_type": "stream",
     "text": [
      "Found 8000 images belonging to 2 classes.\n",
      "Found 2000 images belonging to 2 classes.\n"
     ]
    }
   ],
   "source": [
    "train_datagen = ImageDataGenerator(rescale = 1./255.,\n",
    "                                   rotation_range = 40,\n",
    "                                   width_shift_range = 0.2,\n",
    "                                   height_shift_range = 0.2,\n",
    "                                   shear_range = 0.2,\n",
    "                                   zoom_range = 0.2,\n",
    "                                   horizontal_flip = True)\n",
    "\n",
    "\n",
    "test_datagen = ImageDataGenerator( rescale = 1.0/255. )\n",
    "\n",
    "train_generator = train_datagen.flow_from_directory(\"dataset/training_set\",\n",
    "                                                    batch_size = 40,\n",
    "                                                    class_mode = 'binary', \n",
    "                                                    target_size = (150, 150))     \n",
    "\n",
    "validation_generator =  test_datagen.flow_from_directory( \"dataset/test_set\",\n",
    "                                                          batch_size  = 40,\n",
    "                                                          class_mode  = 'binary', \n",
    "                                                          target_size = (150, 150))"
   ]
  },
  {
   "cell_type": "code",
   "execution_count": 17,
   "metadata": {},
   "outputs": [],
   "source": [
    "model = tf.keras.models.Sequential([\n",
    "    tf.keras.layers.Conv2D(32, (3,3), activation='relu', input_shape=(150, 150, 3)),\n",
    "    tf.keras.layers.MaxPooling2D(2, 2),\n",
    "    tf.keras.layers.Conv2D(64, (3,3), activation='relu'),\n",
    "    tf.keras.layers.MaxPooling2D(2,2),\n",
    "    tf.keras.layers.Conv2D(128, (3,3), activation='relu'),\n",
    "    tf.keras.layers.MaxPooling2D(2,2),\n",
    "    tf.keras.layers.Conv2D(128, (3,3), activation='relu'),\n",
    "    tf.keras.layers.MaxPooling2D(2,2),\n",
    "    tf.keras.layers.Flatten(),\n",
    "    tf.keras.layers.Dropout(0.2),\n",
    "    tf.keras.layers.Dense(256, activation='relu'),\n",
    "    tf.keras.layers.Dense(128, activation='relu'),\n",
    "    tf.keras.layers.Dense(1, activation='sigmoid')\n",
    "])"
   ]
  },
  {
   "cell_type": "code",
   "execution_count": 18,
   "metadata": {},
   "outputs": [
    {
     "name": "stdout",
     "output_type": "stream",
     "text": [
      "Model: \"sequential\"\n",
      "_________________________________________________________________\n",
      "Layer (type)                 Output Shape              Param #   \n",
      "=================================================================\n",
      "conv2d (Conv2D)              (None, 148, 148, 32)      896       \n",
      "_________________________________________________________________\n",
      "max_pooling2d (MaxPooling2D) (None, 74, 74, 32)        0         \n",
      "_________________________________________________________________\n",
      "conv2d_1 (Conv2D)            (None, 72, 72, 64)        18496     \n",
      "_________________________________________________________________\n",
      "max_pooling2d_1 (MaxPooling2 (None, 36, 36, 64)        0         \n",
      "_________________________________________________________________\n",
      "conv2d_2 (Conv2D)            (None, 34, 34, 128)       73856     \n",
      "_________________________________________________________________\n",
      "max_pooling2d_2 (MaxPooling2 (None, 17, 17, 128)       0         \n",
      "_________________________________________________________________\n",
      "conv2d_3 (Conv2D)            (None, 15, 15, 128)       147584    \n",
      "_________________________________________________________________\n",
      "max_pooling2d_3 (MaxPooling2 (None, 7, 7, 128)         0         \n",
      "_________________________________________________________________\n",
      "flatten (Flatten)            (None, 6272)              0         \n",
      "_________________________________________________________________\n",
      "dropout (Dropout)            (None, 6272)              0         \n",
      "_________________________________________________________________\n",
      "dense (Dense)                (None, 256)               1605888   \n",
      "_________________________________________________________________\n",
      "dense_1 (Dense)              (None, 128)               32896     \n",
      "_________________________________________________________________\n",
      "dense_2 (Dense)              (None, 1)                 129       \n",
      "=================================================================\n",
      "Total params: 1,879,745\n",
      "Trainable params: 1,879,745\n",
      "Non-trainable params: 0\n",
      "_________________________________________________________________\n"
     ]
    }
   ],
   "source": [
    "model.summary()"
   ]
  },
  {
   "cell_type": "code",
   "execution_count": 21,
   "metadata": {},
   "outputs": [],
   "source": [
    "from tensorflow.keras.optimizers import RMSprop\n",
    "\n",
    "model.compile(optimizer=RMSprop(lr=0.001),\n",
    "              loss='binary_crossentropy',\n",
    "              metrics = ['accuracy'])"
   ]
  },
  {
   "cell_type": "code",
   "execution_count": 25,
   "metadata": {},
   "outputs": [
    {
     "name": "stderr",
     "output_type": "stream",
     "text": [
      "WARNING - sample_weight modes were coerced from\n",
      "  ...\n",
      "    to  \n",
      "  ['...']\n",
      "WARNING - sample_weight modes were coerced from\n",
      "  ...\n",
      "    to  \n",
      "  ['...']\n"
     ]
    },
    {
     "name": "stdout",
     "output_type": "stream",
     "text": [
      "Train for 100 steps, validate for 50 steps\n",
      "Epoch 1/100\n",
      "100/100 - 273s - loss: 0.3867 - accuracy: 0.8455 - val_loss: 0.3426 - val_accuracy: 0.8460\n",
      "Epoch 2/100\n",
      "100/100 - 298s - loss: 0.3607 - accuracy: 0.8487 - val_loss: 0.3799 - val_accuracy: 0.8865\n",
      "Epoch 3/100\n",
      "100/100 - 223s - loss: 0.3766 - accuracy: 0.8450 - val_loss: 0.2266 - val_accuracy: 0.9060\n",
      "Epoch 4/100\n",
      "100/100 - 216s - loss: 0.3598 - accuracy: 0.8460 - val_loss: 0.4593 - val_accuracy: 0.8145\n",
      "Epoch 5/100\n",
      "100/100 - 215s - loss: 0.3572 - accuracy: 0.8520 - val_loss: 0.4708 - val_accuracy: 0.8065\n",
      "Epoch 6/100\n",
      "100/100 - 216s - loss: 0.3532 - accuracy: 0.8490 - val_loss: 0.2617 - val_accuracy: 0.8925\n",
      "Epoch 7/100\n",
      "100/100 - 215s - loss: 0.3525 - accuracy: 0.8485 - val_loss: 1.4981 - val_accuracy: 0.8390\n",
      "Epoch 8/100\n",
      "100/100 - 238s - loss: 0.3578 - accuracy: 0.8495 - val_loss: 0.3426 - val_accuracy: 0.8600\n",
      "Epoch 9/100\n",
      "100/100 - 215s - loss: 0.3715 - accuracy: 0.8480 - val_loss: 0.3917 - val_accuracy: 0.8445\n",
      "Epoch 10/100\n",
      "100/100 - 215s - loss: 0.3557 - accuracy: 0.8440 - val_loss: 0.2325 - val_accuracy: 0.9020\n",
      "Epoch 11/100\n",
      "100/100 - 219s - loss: 0.3458 - accuracy: 0.8545 - val_loss: 0.4057 - val_accuracy: 0.8690\n",
      "Epoch 12/100\n",
      "100/100 - 226s - loss: 0.3668 - accuracy: 0.8508 - val_loss: 0.3183 - val_accuracy: 0.8645\n",
      "Epoch 13/100\n",
      "100/100 - 219s - loss: 0.3547 - accuracy: 0.8485 - val_loss: 0.3602 - val_accuracy: 0.8700\n",
      "Epoch 14/100\n",
      "100/100 - 217s - loss: 0.3644 - accuracy: 0.8490 - val_loss: 0.3265 - val_accuracy: 0.8885\n",
      "Epoch 15/100\n",
      "100/100 - 215s - loss: 0.4763 - accuracy: 0.8332 - val_loss: 0.3248 - val_accuracy: 0.8595\n",
      "Epoch 16/100\n",
      "100/100 - 220s - loss: 0.3786 - accuracy: 0.8375 - val_loss: 0.3566 - val_accuracy: 0.8735\n",
      "Epoch 17/100\n",
      "100/100 - 219s - loss: 0.3549 - accuracy: 0.8478 - val_loss: 0.2515 - val_accuracy: 0.8970\n",
      "Epoch 18/100\n",
      "100/100 - 219s - loss: 0.3790 - accuracy: 0.8395 - val_loss: 0.7014 - val_accuracy: 0.6600\n",
      "Epoch 19/100\n",
      "100/100 - 220s - loss: 0.3695 - accuracy: 0.8443 - val_loss: 0.3060 - val_accuracy: 0.8935\n",
      "Epoch 20/100\n",
      "100/100 - 233s - loss: 0.3747 - accuracy: 0.8457 - val_loss: 0.3247 - val_accuracy: 0.8590\n",
      "Epoch 21/100\n",
      "100/100 - 237s - loss: 0.3815 - accuracy: 0.8450 - val_loss: 0.3028 - val_accuracy: 0.8850\n",
      "Epoch 22/100\n",
      "100/100 - 218s - loss: 0.3807 - accuracy: 0.8555 - val_loss: 0.3079 - val_accuracy: 0.8780\n",
      "Epoch 23/100\n",
      "100/100 - 216s - loss: 0.4063 - accuracy: 0.8357 - val_loss: 0.3851 - val_accuracy: 0.8075\n",
      "Epoch 24/100\n",
      "100/100 - 216s - loss: 0.3618 - accuracy: 0.8505 - val_loss: 0.2605 - val_accuracy: 0.8855\n",
      "Epoch 25/100\n",
      "100/100 - 215s - loss: 0.3668 - accuracy: 0.8465 - val_loss: 0.2800 - val_accuracy: 0.8860\n",
      "Epoch 26/100\n",
      "100/100 - 211s - loss: 0.3786 - accuracy: 0.8300 - val_loss: 0.3352 - val_accuracy: 0.9035\n",
      "Epoch 27/100\n",
      "100/100 - 212s - loss: 0.3747 - accuracy: 0.8438 - val_loss: 0.3346 - val_accuracy: 0.8860\n",
      "Epoch 28/100\n",
      "100/100 - 212s - loss: 0.3541 - accuracy: 0.8515 - val_loss: 0.3601 - val_accuracy: 0.8720\n",
      "Epoch 29/100\n",
      "100/100 - 207s - loss: 0.3552 - accuracy: 0.8445 - val_loss: 0.3240 - val_accuracy: 0.8815\n",
      "Epoch 30/100\n",
      "100/100 - 204s - loss: 0.3595 - accuracy: 0.8395 - val_loss: 0.3202 - val_accuracy: 0.8925\n",
      "Epoch 31/100\n",
      "100/100 - 210s - loss: 0.4041 - accuracy: 0.8418 - val_loss: 0.3643 - val_accuracy: 0.8615\n",
      "Epoch 32/100\n",
      "100/100 - 201s - loss: 0.3605 - accuracy: 0.8457 - val_loss: 0.3132 - val_accuracy: 0.8890\n",
      "Epoch 33/100\n",
      "100/100 - 202s - loss: 0.4583 - accuracy: 0.8420 - val_loss: 0.3452 - val_accuracy: 0.8730\n",
      "Epoch 34/100\n",
      "100/100 - 202s - loss: 0.3540 - accuracy: 0.8520 - val_loss: 0.2944 - val_accuracy: 0.8680\n",
      "Epoch 35/100\n",
      "100/100 - 204s - loss: 0.3574 - accuracy: 0.8468 - val_loss: 0.3144 - val_accuracy: 0.8725\n",
      "Epoch 36/100\n",
      "100/100 - 208s - loss: 0.4107 - accuracy: 0.8390 - val_loss: 0.3640 - val_accuracy: 0.8765\n",
      "Epoch 37/100\n",
      "100/100 - 210s - loss: 0.3852 - accuracy: 0.8390 - val_loss: 0.3875 - val_accuracy: 0.8190\n",
      "Epoch 38/100\n",
      "100/100 - 205s - loss: 0.3756 - accuracy: 0.8375 - val_loss: 0.3780 - val_accuracy: 0.8660\n",
      "Epoch 39/100\n",
      "100/100 - 206s - loss: 0.3683 - accuracy: 0.8438 - val_loss: 0.4188 - val_accuracy: 0.8785\n",
      "Epoch 40/100\n",
      "100/100 - 209s - loss: 0.3821 - accuracy: 0.8428 - val_loss: 0.2332 - val_accuracy: 0.9050\n",
      "Epoch 41/100\n",
      "100/100 - 216s - loss: 0.3769 - accuracy: 0.8292 - val_loss: 0.2554 - val_accuracy: 0.9120\n",
      "Epoch 42/100\n",
      "100/100 - 208s - loss: 0.3734 - accuracy: 0.8422 - val_loss: 0.3030 - val_accuracy: 0.8770\n",
      "Epoch 43/100\n",
      "100/100 - 210s - loss: 0.3915 - accuracy: 0.8347 - val_loss: 0.3879 - val_accuracy: 0.8375\n",
      "Epoch 44/100\n",
      "100/100 - 210s - loss: 0.3973 - accuracy: 0.8290 - val_loss: 0.3266 - val_accuracy: 0.8670\n",
      "Epoch 45/100\n",
      "100/100 - 222s - loss: 0.5039 - accuracy: 0.8340 - val_loss: 0.2364 - val_accuracy: 0.9110\n",
      "Epoch 46/100\n",
      "100/100 - 216s - loss: 0.3643 - accuracy: 0.8415 - val_loss: 0.3832 - val_accuracy: 0.8640\n",
      "Epoch 47/100\n",
      "100/100 - 212s - loss: 0.3671 - accuracy: 0.8493 - val_loss: 0.3243 - val_accuracy: 0.8620\n",
      "Epoch 48/100\n",
      "100/100 - 215s - loss: 0.3770 - accuracy: 0.8395 - val_loss: 0.3035 - val_accuracy: 0.8910\n",
      "Epoch 49/100\n",
      "100/100 - 212s - loss: 0.5255 - accuracy: 0.8303 - val_loss: 0.3563 - val_accuracy: 0.8480\n",
      "Epoch 50/100\n",
      "100/100 - 211s - loss: 0.6661 - accuracy: 0.8232 - val_loss: 0.4345 - val_accuracy: 0.8520\n",
      "Epoch 51/100\n",
      "100/100 - 211s - loss: 0.3938 - accuracy: 0.8298 - val_loss: 0.5432 - val_accuracy: 0.7850\n",
      "Epoch 52/100\n",
      "100/100 - 210s - loss: 0.4008 - accuracy: 0.8355 - val_loss: 0.3053 - val_accuracy: 0.8955\n",
      "Epoch 53/100\n",
      "100/100 - 214s - loss: 0.4527 - accuracy: 0.8288 - val_loss: 0.2307 - val_accuracy: 0.9070\n",
      "Epoch 54/100\n",
      "100/100 - 212s - loss: 0.4088 - accuracy: 0.8298 - val_loss: 0.3217 - val_accuracy: 0.8695\n",
      "Epoch 55/100\n",
      "100/100 - 214s - loss: 0.4457 - accuracy: 0.8405 - val_loss: 0.2628 - val_accuracy: 0.8930\n",
      "Epoch 56/100\n",
      "100/100 - 210s - loss: 0.4175 - accuracy: 0.8413 - val_loss: 0.3252 - val_accuracy: 0.8625\n",
      "Epoch 58/100\n",
      "100/100 - 208s - loss: 0.3866 - accuracy: 0.8320 - val_loss: 0.3045 - val_accuracy: 0.8860\n",
      "Epoch 59/100\n",
      "100/100 - 208s - loss: 0.3489 - accuracy: 0.8500 - val_loss: 0.6415 - val_accuracy: 0.9050\n",
      "Epoch 60/100\n",
      "100/100 - 210s - loss: 0.3818 - accuracy: 0.8403 - val_loss: 0.4118 - val_accuracy: 0.8905\n",
      "Epoch 61/100\n",
      "100/100 - 212s - loss: 0.3889 - accuracy: 0.8428 - val_loss: 0.2647 - val_accuracy: 0.8960\n",
      "Epoch 62/100\n",
      "100/100 - 213s - loss: 0.4196 - accuracy: 0.8385 - val_loss: 0.3011 - val_accuracy: 0.8935\n",
      "Epoch 63/100\n",
      "100/100 - 209s - loss: 0.8016 - accuracy: 0.8413 - val_loss: 0.2777 - val_accuracy: 0.8945\n",
      "Epoch 64/100\n",
      "100/100 - 214s - loss: 0.3802 - accuracy: 0.8545 - val_loss: 0.3281 - val_accuracy: 0.8690\n",
      "Epoch 65/100\n",
      "100/100 - 214s - loss: 0.3821 - accuracy: 0.8472 - val_loss: 0.2508 - val_accuracy: 0.9010\n",
      "Epoch 66/100\n",
      "100/100 - 217s - loss: 0.3885 - accuracy: 0.8413 - val_loss: 0.2785 - val_accuracy: 0.8880\n",
      "Epoch 67/100\n",
      "100/100 - 212s - loss: 0.3650 - accuracy: 0.8395 - val_loss: 0.2935 - val_accuracy: 0.8800\n",
      "Epoch 68/100\n",
      "100/100 - 211s - loss: 0.3615 - accuracy: 0.8553 - val_loss: 0.4248 - val_accuracy: 0.8800\n",
      "Epoch 69/100\n",
      "100/100 - 213s - loss: 0.4488 - accuracy: 0.8192 - val_loss: 0.2678 - val_accuracy: 0.8840\n",
      "Epoch 70/100\n",
      "100/100 - 208s - loss: 0.4277 - accuracy: 0.8372 - val_loss: 0.3030 - val_accuracy: 0.8750\n",
      "Epoch 71/100\n",
      "100/100 - 211s - loss: 0.3678 - accuracy: 0.8372 - val_loss: 0.3055 - val_accuracy: 0.9035\n",
      "Epoch 72/100\n",
      "100/100 - 208s - loss: 0.3884 - accuracy: 0.8393 - val_loss: 0.3219 - val_accuracy: 0.8650\n",
      "Epoch 73/100\n",
      "100/100 - 208s - loss: 0.3834 - accuracy: 0.8405 - val_loss: 0.2716 - val_accuracy: 0.9010\n",
      "Epoch 74/100\n",
      "100/100 - 208s - loss: 0.4156 - accuracy: 0.8325 - val_loss: 0.2564 - val_accuracy: 0.9080\n",
      "Epoch 75/100\n",
      "100/100 - 211s - loss: 0.3865 - accuracy: 0.8413 - val_loss: 0.2749 - val_accuracy: 0.8880\n",
      "Epoch 76/100\n",
      "100/100 - 211s - loss: 0.3735 - accuracy: 0.8453 - val_loss: 0.2691 - val_accuracy: 0.8825\n",
      "Epoch 77/100\n",
      "100/100 - 206s - loss: 0.5045 - accuracy: 0.8447 - val_loss: 0.2485 - val_accuracy: 0.9050\n",
      "Epoch 78/100\n",
      "100/100 - 211s - loss: 0.3478 - accuracy: 0.8535 - val_loss: 0.3542 - val_accuracy: 0.8590\n",
      "Epoch 79/100\n",
      "100/100 - 224s - loss: 0.3794 - accuracy: 0.8462 - val_loss: 0.2448 - val_accuracy: 0.8965\n",
      "Epoch 80/100\n",
      "100/100 - 215s - loss: 0.4004 - accuracy: 0.8382 - val_loss: 0.5808 - val_accuracy: 0.8155\n",
      "Epoch 81/100\n",
      "100/100 - 214s - loss: 0.4544 - accuracy: 0.8472 - val_loss: 0.5700 - val_accuracy: 0.8840\n",
      "Epoch 82/100\n",
      "100/100 - 211s - loss: 0.4225 - accuracy: 0.8275 - val_loss: 0.2442 - val_accuracy: 0.9035\n",
      "Epoch 83/100\n",
      "100/100 - 215s - loss: 0.3943 - accuracy: 0.8390 - val_loss: 0.5491 - val_accuracy: 0.8830\n",
      "Epoch 84/100\n",
      "100/100 - 217s - loss: 0.3897 - accuracy: 0.8350 - val_loss: 0.3920 - val_accuracy: 0.8775\n",
      "Epoch 85/100\n",
      "100/100 - 213s - loss: 0.3811 - accuracy: 0.8525 - val_loss: 0.2493 - val_accuracy: 0.9000\n",
      "Epoch 86/100\n",
      "100/100 - 216s - loss: 0.4637 - accuracy: 0.8415 - val_loss: 0.5492 - val_accuracy: 0.7885\n",
      "Epoch 87/100\n",
      "100/100 - 214s - loss: 5.0639 - accuracy: 0.8330 - val_loss: 0.2685 - val_accuracy: 0.8900\n",
      "Epoch 88/100\n",
      "100/100 - 214s - loss: 0.3674 - accuracy: 0.8438 - val_loss: 0.4741 - val_accuracy: 0.8055\n",
      "Epoch 89/100\n",
      "100/100 - 210s - loss: 0.3416 - accuracy: 0.8572 - val_loss: 0.2352 - val_accuracy: 0.9005\n",
      "Epoch 90/100\n",
      "100/100 - 211s - loss: 0.3713 - accuracy: 0.8397 - val_loss: 0.4320 - val_accuracy: 0.8165\n",
      "Epoch 91/100\n",
      "100/100 - 211s - loss: 0.3562 - accuracy: 0.8500 - val_loss: 0.2837 - val_accuracy: 0.9055\n",
      "Epoch 92/100\n",
      "100/100 - 208s - loss: 0.4376 - accuracy: 0.8270 - val_loss: 0.2771 - val_accuracy: 0.8930\n",
      "Epoch 93/100\n",
      "100/100 - 209s - loss: 0.3882 - accuracy: 0.8410 - val_loss: 0.3676 - val_accuracy: 0.8890\n",
      "Epoch 94/100\n",
      "100/100 - 224s - loss: 0.3596 - accuracy: 0.8482 - val_loss: 0.5236 - val_accuracy: 0.8725\n",
      "Epoch 95/100\n",
      "100/100 - 210s - loss: 0.3587 - accuracy: 0.8460 - val_loss: 0.4167 - val_accuracy: 0.8845\n",
      "Epoch 96/100\n",
      "100/100 - 208s - loss: 0.4084 - accuracy: 0.8350 - val_loss: 0.5356 - val_accuracy: 0.8065\n",
      "Epoch 97/100\n",
      "100/100 - 204s - loss: 0.4053 - accuracy: 0.8375 - val_loss: 0.3129 - val_accuracy: 0.8785\n",
      "Epoch 98/100\n",
      "100/100 - 205s - loss: 0.3682 - accuracy: 0.8460 - val_loss: 0.3201 - val_accuracy: 0.8770\n",
      "Epoch 99/100\n",
      "100/100 - 208s - loss: 0.4669 - accuracy: 0.8240 - val_loss: 0.3063 - val_accuracy: 0.9010\n",
      "Epoch 100/100\n",
      "100/100 - 220s - loss: 0.3963 - accuracy: 0.8310 - val_loss: 0.7065 - val_accuracy: 0.7705\n"
     ]
    }
   ],
   "source": [
    "history = model.fit(train_generator,\n",
    "                              validation_data=validation_generator,\n",
    "                              steps_per_epoch=100,\n",
    "                              epochs=100,\n",
    "                              validation_steps=50,\n",
    "                              verbose=2)"
   ]
  },
  {
   "cell_type": "code",
   "execution_count": 28,
   "metadata": {},
   "outputs": [
    {
     "data": {
      "text/plain": [
       "Text(0.5, 1.0, 'Training and validation loss')"
      ]
     },
     "execution_count": 28,
     "metadata": {},
     "output_type": "execute_result"
    },
    {
     "data": {
      "image/png": "[encoded data removed]",
      "text/plain": [
       "<Figure size 432x288 with 1 Axes>"
      ]
     },
     "metadata": {
      "needs_background": "light"
     },
     "output_type": "display_data"
    },
    {
     "data": {
      "image/png": "[encoded data removed]",
      "text/plain": [
       "<Figure size 432x288 with 1 Axes>"
      ]
     },
     "metadata": {
      "needs_background": "light"
     },
     "output_type": "display_data"
    }
   ],
   "source": [
    "import matplotlib.image  as mpimg\n",
    "import matplotlib.pyplot as plt\n",
    "\n",
    "\n",
    "acc=history.history['accuracy']\n",
    "val_acc=history.history['val_accuracy']\n",
    "loss=history.history['loss']\n",
    "val_loss=history.history['val_loss']\n",
    "\n",
    "epochs=range(len(acc)) \n",
    "\n",
    "\n",
    "plt.plot(epochs, acc, 'r', \"Training Accuracy\")\n",
    "plt.plot(epochs, val_acc, 'b', \"Validation Accuracy\")\n",
    "plt.title('Training and validation accuracy')\n",
    "plt.figure()\n",
    "\n",
    "\n",
    "plt.plot(epochs, loss, 'r', \"Training Loss\")\n",
    "plt.plot(epochs, val_loss, 'b', \"Validation Loss\")\n",
    "\n",
    "\n",
    "plt.title('Training and validation loss')"
   ]
  },
  {
   "cell_type": "code",
   "execution_count": null,
   "metadata": {},
   "outputs": [],
   "source": []
  }
 ],
 "metadata": {
  "kernel_info": {
   "name": "python3-azureml"
  },
  "kernelspec": {
   "display_name": "Python 3.6 - AzureML",
   "language": "python",
   "name": "python3-azureml"
  },
  "nteract": {
   "version": "nteract-front-end@1.0.0"
  }
 },
 "nbformat": 4,
 "nbformat_minor": 2
}
